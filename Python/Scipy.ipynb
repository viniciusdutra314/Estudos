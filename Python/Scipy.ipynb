{
  "cells": [
    {
      "attachments": {},
      "cell_type": "markdown",
      "metadata": {
        "id": "VqAoSbp44ubY"
      },
      "source": [
        "https://www.youtube.com/watch?v=jmX4FOUEfgU"
      ]
    },
    {
      "cell_type": "code",
      "execution_count": null,
      "metadata": {
        "id": "Z0x4y8p6pWXp"
      },
      "outputs": [],
      "source": [
        "from scipy.optimize import minimize"
      ]
    },
    {
      "cell_type": "code",
      "execution_count": null,
      "metadata": {
        "colab": {
          "base_uri": "https://localhost:8080/"
        },
        "id": "G66UCSGUp1xW",
        "outputId": "cab01804-a79f-41d7-e2ba-c749f4b3c1e8"
      },
      "outputs": [
        {
          "name": "stdout",
          "output_type": "stream",
          "text": [
            " message: Optimization terminated successfully\n",
            " success: True\n",
            "  status: 0\n",
            "     fun: 2.9988803841767044\n",
            "       x: [-1.788e+00 -8.960e-01]\n",
            "     nit: 20\n",
            "     jac: [ 4.406e+00  2.208e+00]\n",
            "    nfev: 63\n",
            "    njev: 20\n"
          ]
        }
      ],
      "source": [
        "def f(x): return (x[0]+3)**3 +(x[1]+2)**2\n",
        "restricao=[{'type': \"ineq\",\"fun\": lambda x: -x[0]**2 - x[1]**2 +4}]\n",
        "\n",
        "res=minimize(f,[3,2],constraints=restricao)\n",
        "print(res)"
      ]
    },
    {
      "attachments": {},
      "cell_type": "markdown",
      "metadata": {
        "id": "1-IB6I8f4iaT"
      },
      "source": [
        "## Interpolação"
      ]
    },
    {
      "cell_type": "code",
      "execution_count": null,
      "metadata": {
        "colab": {
          "base_uri": "https://localhost:8080/",
          "height": 448
        },
        "id": "XjqOFlPF0zcm",
        "outputId": "67fc5ca1-a8db-4b22-fcc5-37c8f2301354"
      },
      "outputs": [],
      "source": [
        "from scipy.interpolate import interp1d\n",
        "import matplotlib.pyplot as plt\n",
        "from numpy import linspace\n",
        "x=[0,1,2,3,4,5]\n",
        "y=[1,-3,10,35,50,60]\n",
        "f= interp1d(x,y,kind='quadratic')\n",
        "x_dense=linspace(0,5,100)\n",
        "y_dense=f(x_dense)\n",
        "plt.plot(x_dense,y_dense)\n",
        "plt.scatter(x,y,color=red)"
      ]
    },
    {
      "attachments": {},
      "cell_type": "markdown",
      "metadata": {
        "id": "HOPao5Wr4rt4"
      },
      "source": [
        "## Curve Fitting"
      ]
    },
    {
      "cell_type": "code",
      "execution_count": null,
      "metadata": {
        "colab": {
          "base_uri": "https://localhost:8080/",
          "height": 448
        },
        "id": "i_C__12e5240",
        "outputId": "a77bafb2-5ad7-4bad-de4c-2bc3e36bc8bf"
      },
      "outputs": [],
      "source": [
        "import numpy as np\n",
        "def func(t,A,w,phi):\n",
        "    return A*np.cos(w*t+phi)\n",
        "from scipy.optimize import curve_fit\n",
        "x_data = np.array([ 0.   ,  0.34482759,  0.68965517,  1.03448276,  1.37931034,\n",
        "        1.72413793,  2.06896552,  2.4137931 ,  2.75862069,  3.10344828,\n",
        "        3.44827586,  3.79310345,  4.13793103,  4.48275862,  4.82758621,\n",
        "        5.17241379,  5.51724138,  5.86206897,  6.20689655,  6.55172414,\n",
        "        6.89655172,  7.24137931,  7.5862069 ,  7.93103448,  8.27586207,\n",
        "        8.62068966,  8.96551724,  9.31034483,  9.65517241, 10.        ])\n",
        "y_data = np.array([ 4.3303953 ,  1.61137995, -2.15418696, -3.90137249, -1.67259042,\n",
        "        2.16884383,  3.86635998,  1.85194506, -1.8489224 , -3.96560495,\n",
        "       -2.13385255,  1.59425817,  4.06145238,  1.89300594, -1.76870297,\n",
        "       -4.26791226, -2.46874133,  1.37019912,  4.24945607,  2.27038039,\n",
        "       -1.50299303, -3.46774049, -2.50845488,  1.20022052,  3.81633703,\n",
        "        2.91511556, -1.24569189, -3.72716214, -2.54549857,  0.87262548])\n",
        "a,b=curve_fit(func,x_data,y_data,[4,np.pi,0]) #depende das condições inicias\n",
        "plt.plot(x_data,y_data,label=\"data\")\n",
        "t=np.linspace(0,10,1000)\n",
        "y=func(t,a[0],a[1],a[2])\n",
        "plt.plot(t,y,label=\"fitting\")\n",
        "plt.legend()"
      ]
    },
    {
      "attachments": {},
      "cell_type": "markdown",
      "metadata": {
        "id": "I80pBkfZ9xY6"
      },
      "source": [
        "##Integral e Derivada"
      ]
    },
    {
      "cell_type": "code",
      "execution_count": null,
      "metadata": {
        "colab": {
          "base_uri": "https://localhost:8080/",
          "height": 523
        },
        "id": "TK1SoBA392Aq",
        "outputId": "1ef57576-81e9-4436-c0ba-daa0ccb338c3"
      },
      "outputs": [],
      "source": [
        "from scipy.misc import derivative\n",
        "def f(x):\n",
        "    return x**2 * np.sin(2*x) *np.exp(-x)\n",
        "x = np.linspace(0, 1, 100)\n",
        "plt.plot(x, f(x))\n",
        "plt.plot(x, derivative(f, x, dx=1e-6))\n",
        "plt.plot(x, derivative(f, x, dx=1e-6, n=2))\n",
        "plt.grid()"
      ]
    },
    {
      "attachments": {},
      "cell_type": "markdown",
      "metadata": {
        "id": "PRsFVZwj-k_k"
      },
      "source": [
        "## **Equações diferencias**"
      ]
    },
    {
      "cell_type": "code",
      "execution_count": null,
      "metadata": {
        "id": "Tdv4MUJh-TVD"
      },
      "outputs": [],
      "source": []
    }
  ],
  "metadata": {
    "colab": {
      "provenance": []
    },
    "kernelspec": {
      "display_name": "Python 3",
      "name": "python3"
    },
    "language_info": {
      "name": "python"
    }
  },
  "nbformat": 4,
  "nbformat_minor": 0
}
