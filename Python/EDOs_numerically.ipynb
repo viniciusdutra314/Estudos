{
  "cells": [
    {
      "attachments": {},
      "cell_type": "markdown",
      "metadata": {
        "colab_type": "text",
        "id": "view-in-github"
      },
      "source": [
        "<a href=\"https://colab.research.google.com/github/viniciusdutra314/Estudos/blob/main/EDOs_numerically.ipynb\" target=\"_parent\"><img src=\"https://colab.research.google.com/assets/colab-badge.svg\" alt=\"Open In Colab\"/></a>"
      ]
    },
    {
      "attachments": {},
      "cell_type": "markdown",
      "metadata": {
        "id": "NhPL9shht8R2"
      },
      "source": [
        "## Todas as oscilações de VO"
      ]
    },
    {
      "cell_type": "code",
      "execution_count": null,
      "metadata": {
        "cellView": "code",
        "colab": {
          "base_uri": "https://localhost:8080/",
          "height": 486
        },
        "id": "ytYKul7Gf2Nw",
        "outputId": "1b54cc51-ab88-4aa4-897a-d8d9be23d59f"
      },
      "outputs": [],
      "source": [
        "import numpy as np\n",
        "from sympy.interactive import printing\n",
        "printing.init_printing(use_latex=True)\n",
        "from sympy import*\n",
        "import sympy as sp\n",
        "import matplotlib.pyplot as plt\n",
        "\n",
        "##Constantes e condições inicias\n",
        "x0=1000\n",
        "v0=0\n",
        "gamma=0.1\n",
        "omega=3\n",
        "F0=0\n",
        "## Código\n",
        "t=sp.Symbol('t')\n",
        "x=sp.Function('x')(t)\n",
        "diffeq=Eq(x.diff(t,2)+gamma*x.diff(t,1)+omega**2*x,F0*sin(t))\n",
        "display(diffeq)\n",
        "solution=dsolve(diffeq,ics={x.subs(t, 0): x0,x.diff(t,1).subs(t,0):v0})\n",
        "\n",
        "\n",
        "function = sp.lambdify(t, solution.rhs, 'numpy')\n",
        "t=np.linspace(0,10,1000)\n",
        "x=function(t)\n",
        "plt.plot(t,x)\n",
        "plt.xlabel(\"Tempo\")\n",
        "plt.ylabel(\"Deslocamento\")\n",
        "plt.show()"
      ]
    }
  ],
  "metadata": {
    "colab": {
      "authorship_tag": "ABX9TyNomfssx8XpSXISKWZMq5Lv",
      "include_colab_link": true,
      "provenance": []
    },
    "kernelspec": {
      "display_name": "Python 3",
      "name": "python3"
    },
    "language_info": {
      "name": "python"
    }
  },
  "nbformat": 4,
  "nbformat_minor": 0
}
