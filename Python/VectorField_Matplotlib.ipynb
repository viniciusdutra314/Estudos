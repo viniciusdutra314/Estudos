{
  "cells": [
    {
      "attachments": {},
      "cell_type": "markdown",
      "metadata": {
        "colab_type": "text",
        "id": "view-in-github"
      },
      "source": [
        "<a href=\"https://colab.research.google.com/github/viniciusdutra314/OpenStudies/blob/main/VectorField_Matplotlib.ipynb\" target=\"_parent\"><img src=\"https://colab.research.google.com/assets/colab-badge.svg\" alt=\"Open In Colab\"/></a>"
      ]
    },
    {
      "attachments": {},
      "cell_type": "markdown",
      "metadata": {
        "id": "udIx3l_0zMar"
      },
      "source": [
        "## Referencias \n",
        "[quiver](https://www.youtube.com/watch?v=tKgZb71BUEQ)"
      ]
    },
    {
      "cell_type": "code",
      "execution_count": null,
      "metadata": {
        "id": "L9GqPK3A1In_"
      },
      "outputs": [],
      "source": [
        "import numpy as np\n",
        "import matplotlib.pyplot as plt"
      ]
    },
    {
      "attachments": {},
      "cell_type": "markdown",
      "metadata": {
        "id": "FbE8F11W0eUQ"
      },
      "source": [
        "##**One color**"
      ]
    },
    {
      "cell_type": "code",
      "execution_count": null,
      "metadata": {
        "colab": {
          "base_uri": "https://localhost:8080/",
          "height": 449
        },
        "id": "qfFoSVbyvw5i",
        "outputId": "6a18190e-a318-4e32-e749-c2834c6dd535"
      },
      "outputs": [],
      "source": [
        "x=np.linspace(-1,1,11) #xscale odd numbers gets in the center\n",
        "y=np.linspace(-1,1,11) #yscale\n",
        "x,y=np.meshgrid(x,y)\n",
        "fx,fy=x,y #define the functions\n",
        "plt.quiver(x,y,fx,fy,scale=10) #this is actually 1/scale\n",
        "plt.xlabel(\"Horizontal\")\n",
        "plt.ylabel(\"Vertical\")\n",
        "plt.show()"
      ]
    }
  ],
  "metadata": {
    "colab": {
      "authorship_tag": "ABX9TyMg3Nussjd+cJGK1BonhG1u",
      "include_colab_link": true,
      "provenance": []
    },
    "kernelspec": {
      "display_name": "Python 3",
      "name": "python3"
    },
    "language_info": {
      "name": "python"
    }
  },
  "nbformat": 4,
  "nbformat_minor": 0
}
